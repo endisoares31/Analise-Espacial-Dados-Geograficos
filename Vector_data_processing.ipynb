{
  "nbformat": 4,
  "nbformat_minor": 0,
  "metadata": {
    "colab": {
      "name": "Vector data processing.ipynb",
      "provenance": [],
      "collapsed_sections": [],
      "authorship_tag": "ABX9TyPn4r+Spjn4vLKt9PouyBQ2",
      "include_colab_link": true
    },
    "kernelspec": {
      "name": "python3",
      "display_name": "Python 3"
    },
    "language_info": {
      "name": "python"
    }
  },
  "cells": [
    {
      "cell_type": "markdown",
      "metadata": {
        "id": "view-in-github",
        "colab_type": "text"
      },
      "source": [
        "<a href=\"https://colab.research.google.com/github/endisoares31/Analise-Espacial-Dados-Geograficos/blob/main/Vector_data_processing.ipynb\" target=\"_parent\"><img src=\"https://colab.research.google.com/assets/colab-badge.svg\" alt=\"Open In Colab\"/></a>"
      ]
    },
    {
      "cell_type": "markdown",
      "source": [
        "1.Será necessário de antemão instalar as Bibliotecas geopandas"
      ],
      "metadata": {
        "id": "xRAOgZeeRWOi"
      }
    },
    {
      "cell_type": "code",
      "execution_count": 1,
      "metadata": {
        "colab": {
          "base_uri": "https://localhost:8080/"
        },
        "id": "TxIAtOVARU5O",
        "outputId": "f195d988-60fd-42e3-c90e-de94be77bf31"
      },
      "outputs": [
        {
          "output_type": "stream",
          "name": "stdout",
          "text": [
            "Collecting geopandas\n",
            "  Downloading geopandas-0.10.2-py2.py3-none-any.whl (1.0 MB)\n",
            "\u001b[K     |████████████████████████████████| 1.0 MB 4.4 MB/s \n",
            "\u001b[?25hCollecting pyproj>=2.2.0\n",
            "  Downloading pyproj-3.2.1-cp37-cp37m-manylinux2010_x86_64.whl (6.3 MB)\n",
            "\u001b[K     |████████████████████████████████| 6.3 MB 41.8 MB/s \n",
            "\u001b[?25hRequirement already satisfied: shapely>=1.6 in /usr/local/lib/python3.7/dist-packages (from geopandas) (1.8.1.post1)\n",
            "Collecting fiona>=1.8\n",
            "  Downloading Fiona-1.8.21-cp37-cp37m-manylinux2014_x86_64.whl (16.7 MB)\n",
            "\u001b[K     |████████████████████████████████| 16.7 MB 322 kB/s \n",
            "\u001b[?25hRequirement already satisfied: pandas>=0.25.0 in /usr/local/lib/python3.7/dist-packages (from geopandas) (1.3.5)\n",
            "Requirement already satisfied: attrs>=17 in /usr/local/lib/python3.7/dist-packages (from fiona>=1.8->geopandas) (21.4.0)\n",
            "Requirement already satisfied: certifi in /usr/local/lib/python3.7/dist-packages (from fiona>=1.8->geopandas) (2021.10.8)\n",
            "Collecting click-plugins>=1.0\n",
            "  Downloading click_plugins-1.1.1-py2.py3-none-any.whl (7.5 kB)\n",
            "Collecting munch\n",
            "  Downloading munch-2.5.0-py2.py3-none-any.whl (10 kB)\n",
            "Requirement already satisfied: setuptools in /usr/local/lib/python3.7/dist-packages (from fiona>=1.8->geopandas) (57.4.0)\n",
            "Requirement already satisfied: six>=1.7 in /usr/local/lib/python3.7/dist-packages (from fiona>=1.8->geopandas) (1.15.0)\n",
            "Collecting cligj>=0.5\n",
            "  Downloading cligj-0.7.2-py3-none-any.whl (7.1 kB)\n",
            "Requirement already satisfied: click>=4.0 in /usr/local/lib/python3.7/dist-packages (from fiona>=1.8->geopandas) (7.1.2)\n",
            "Requirement already satisfied: python-dateutil>=2.7.3 in /usr/local/lib/python3.7/dist-packages (from pandas>=0.25.0->geopandas) (2.8.2)\n",
            "Requirement already satisfied: pytz>=2017.3 in /usr/local/lib/python3.7/dist-packages (from pandas>=0.25.0->geopandas) (2022.1)\n",
            "Requirement already satisfied: numpy>=1.17.3 in /usr/local/lib/python3.7/dist-packages (from pandas>=0.25.0->geopandas) (1.21.6)\n",
            "Installing collected packages: munch, cligj, click-plugins, pyproj, fiona, geopandas\n",
            "Successfully installed click-plugins-1.1.1 cligj-0.7.2 fiona-1.8.21 geopandas-0.10.2 munch-2.5.0 pyproj-3.2.1\n"
          ]
        }
      ],
      "source": [
        "pip install geopandas"
      ]
    },
    {
      "cell_type": "code",
      "source": [
        "import geopandas as gpd"
      ],
      "metadata": {
        "id": "2HglTEVuRvSP"
      },
      "execution_count": 2,
      "outputs": []
    },
    {
      "cell_type": "markdown",
      "source": [
        "2.Carregar os Layers"
      ],
      "metadata": {
        "id": "J-eaC1PaT4RL"
      }
    },
    {
      "cell_type": "code",
      "source": [
        "in_geojason = r'/content/sample_data/dados/Concelhos.shp'\n",
        "in_shp = r'/content/sample_data/dados/Concelhos.shp'"
      ],
      "metadata": {
        "id": "5sg6Dy73Rye6"
      },
      "execution_count": 3,
      "outputs": []
    },
    {
      "cell_type": "code",
      "source": [
        "gdf = gpd.read_file(in_geojason)"
      ],
      "metadata": {
        "id": "GRR7cW8fSPRQ"
      },
      "execution_count": 5,
      "outputs": []
    },
    {
      "cell_type": "code",
      "source": [
        "gdf.head()"
      ],
      "metadata": {
        "colab": {
          "base_uri": "https://localhost:8080/",
          "height": 206
        },
        "id": "tF78tnU8SYOB",
        "outputId": "ff7f85f7-c153-4445-a69e-207e60363b88"
      },
      "execution_count": 6,
      "outputs": [
        {
          "output_type": "execute_result",
          "data": {
            "text/plain": [
              "   OBJECTID  Nom_Ilha  Cod_Conc  Cod_Ilha                Nom_Conc NT_Ilha  \\\n",
              "0         1     BRAVA      91.0       9.0                   BRAVA      BR   \n",
              "1         2  BOAVISTA      51.0       5.0                BOAVISTA      BV   \n",
              "2         3      FOGO      81.0       8.0               MOSTEIROS      FG   \n",
              "3         4      FOGO      82.0       8.0              SAO FILIPE      FG   \n",
              "4         5      FOGO      83.0       8.0  SANTA CATARINA DO FOGO      FG   \n",
              "\n",
              "  NT_Conc     Shape_Leng    Shape_Area  \\\n",
              "0    BR01   88753.109593  6.561978e+07   \n",
              "1    BV01  151604.307583  6.313698e+08   \n",
              "2    FG01   45169.428439  8.492055e+07   \n",
              "3    FG02   75206.067544  2.313158e+08   \n",
              "4    FG03   71686.404328  1.542551e+08   \n",
              "\n",
              "                                            geometry  \n",
              "0  MULTIPOLYGON (((89883.045 19475.907, 89893.845...  \n",
              "1  MULTIPOLYGON (((291170.321 143880.526, 291169....  \n",
              "2  POLYGON ((121997.710 42008.110, 122009.300 419...  \n",
              "3  POLYGON ((118679.239 39610.088, 118680.973 396...  \n",
              "4  POLYGON ((121991.142 35124.003, 122086.542 349...  "
            ],
            "text/html": [
              "\n",
              "  <div id=\"df-e3b4fd1f-c5e0-4be9-a502-68b99dda27ba\">\n",
              "    <div class=\"colab-df-container\">\n",
              "      <div>\n",
              "<style scoped>\n",
              "    .dataframe tbody tr th:only-of-type {\n",
              "        vertical-align: middle;\n",
              "    }\n",
              "\n",
              "    .dataframe tbody tr th {\n",
              "        vertical-align: top;\n",
              "    }\n",
              "\n",
              "    .dataframe thead th {\n",
              "        text-align: right;\n",
              "    }\n",
              "</style>\n",
              "<table border=\"1\" class=\"dataframe\">\n",
              "  <thead>\n",
              "    <tr style=\"text-align: right;\">\n",
              "      <th></th>\n",
              "      <th>OBJECTID</th>\n",
              "      <th>Nom_Ilha</th>\n",
              "      <th>Cod_Conc</th>\n",
              "      <th>Cod_Ilha</th>\n",
              "      <th>Nom_Conc</th>\n",
              "      <th>NT_Ilha</th>\n",
              "      <th>NT_Conc</th>\n",
              "      <th>Shape_Leng</th>\n",
              "      <th>Shape_Area</th>\n",
              "      <th>geometry</th>\n",
              "    </tr>\n",
              "  </thead>\n",
              "  <tbody>\n",
              "    <tr>\n",
              "      <th>0</th>\n",
              "      <td>1</td>\n",
              "      <td>BRAVA</td>\n",
              "      <td>91.0</td>\n",
              "      <td>9.0</td>\n",
              "      <td>BRAVA</td>\n",
              "      <td>BR</td>\n",
              "      <td>BR01</td>\n",
              "      <td>88753.109593</td>\n",
              "      <td>6.561978e+07</td>\n",
              "      <td>MULTIPOLYGON (((89883.045 19475.907, 89893.845...</td>\n",
              "    </tr>\n",
              "    <tr>\n",
              "      <th>1</th>\n",
              "      <td>2</td>\n",
              "      <td>BOAVISTA</td>\n",
              "      <td>51.0</td>\n",
              "      <td>5.0</td>\n",
              "      <td>BOAVISTA</td>\n",
              "      <td>BV</td>\n",
              "      <td>BV01</td>\n",
              "      <td>151604.307583</td>\n",
              "      <td>6.313698e+08</td>\n",
              "      <td>MULTIPOLYGON (((291170.321 143880.526, 291169....</td>\n",
              "    </tr>\n",
              "    <tr>\n",
              "      <th>2</th>\n",
              "      <td>3</td>\n",
              "      <td>FOGO</td>\n",
              "      <td>81.0</td>\n",
              "      <td>8.0</td>\n",
              "      <td>MOSTEIROS</td>\n",
              "      <td>FG</td>\n",
              "      <td>FG01</td>\n",
              "      <td>45169.428439</td>\n",
              "      <td>8.492055e+07</td>\n",
              "      <td>POLYGON ((121997.710 42008.110, 122009.300 419...</td>\n",
              "    </tr>\n",
              "    <tr>\n",
              "      <th>3</th>\n",
              "      <td>4</td>\n",
              "      <td>FOGO</td>\n",
              "      <td>82.0</td>\n",
              "      <td>8.0</td>\n",
              "      <td>SAO FILIPE</td>\n",
              "      <td>FG</td>\n",
              "      <td>FG02</td>\n",
              "      <td>75206.067544</td>\n",
              "      <td>2.313158e+08</td>\n",
              "      <td>POLYGON ((118679.239 39610.088, 118680.973 396...</td>\n",
              "    </tr>\n",
              "    <tr>\n",
              "      <th>4</th>\n",
              "      <td>5</td>\n",
              "      <td>FOGO</td>\n",
              "      <td>83.0</td>\n",
              "      <td>8.0</td>\n",
              "      <td>SANTA CATARINA DO FOGO</td>\n",
              "      <td>FG</td>\n",
              "      <td>FG03</td>\n",
              "      <td>71686.404328</td>\n",
              "      <td>1.542551e+08</td>\n",
              "      <td>POLYGON ((121991.142 35124.003, 122086.542 349...</td>\n",
              "    </tr>\n",
              "  </tbody>\n",
              "</table>\n",
              "</div>\n",
              "      <button class=\"colab-df-convert\" onclick=\"convertToInteractive('df-e3b4fd1f-c5e0-4be9-a502-68b99dda27ba')\"\n",
              "              title=\"Convert this dataframe to an interactive table.\"\n",
              "              style=\"display:none;\">\n",
              "        \n",
              "  <svg xmlns=\"http://www.w3.org/2000/svg\" height=\"24px\"viewBox=\"0 0 24 24\"\n",
              "       width=\"24px\">\n",
              "    <path d=\"M0 0h24v24H0V0z\" fill=\"none\"/>\n",
              "    <path d=\"M18.56 5.44l.94 2.06.94-2.06 2.06-.94-2.06-.94-.94-2.06-.94 2.06-2.06.94zm-11 1L8.5 8.5l.94-2.06 2.06-.94-2.06-.94L8.5 2.5l-.94 2.06-2.06.94zm10 10l.94 2.06.94-2.06 2.06-.94-2.06-.94-.94-2.06-.94 2.06-2.06.94z\"/><path d=\"M17.41 7.96l-1.37-1.37c-.4-.4-.92-.59-1.43-.59-.52 0-1.04.2-1.43.59L10.3 9.45l-7.72 7.72c-.78.78-.78 2.05 0 2.83L4 21.41c.39.39.9.59 1.41.59.51 0 1.02-.2 1.41-.59l7.78-7.78 2.81-2.81c.8-.78.8-2.07 0-2.86zM5.41 20L4 18.59l7.72-7.72 1.47 1.35L5.41 20z\"/>\n",
              "  </svg>\n",
              "      </button>\n",
              "      \n",
              "  <style>\n",
              "    .colab-df-container {\n",
              "      display:flex;\n",
              "      flex-wrap:wrap;\n",
              "      gap: 12px;\n",
              "    }\n",
              "\n",
              "    .colab-df-convert {\n",
              "      background-color: #E8F0FE;\n",
              "      border: none;\n",
              "      border-radius: 50%;\n",
              "      cursor: pointer;\n",
              "      display: none;\n",
              "      fill: #1967D2;\n",
              "      height: 32px;\n",
              "      padding: 0 0 0 0;\n",
              "      width: 32px;\n",
              "    }\n",
              "\n",
              "    .colab-df-convert:hover {\n",
              "      background-color: #E2EBFA;\n",
              "      box-shadow: 0px 1px 2px rgba(60, 64, 67, 0.3), 0px 1px 3px 1px rgba(60, 64, 67, 0.15);\n",
              "      fill: #174EA6;\n",
              "    }\n",
              "\n",
              "    [theme=dark] .colab-df-convert {\n",
              "      background-color: #3B4455;\n",
              "      fill: #D2E3FC;\n",
              "    }\n",
              "\n",
              "    [theme=dark] .colab-df-convert:hover {\n",
              "      background-color: #434B5C;\n",
              "      box-shadow: 0px 1px 3px 1px rgba(0, 0, 0, 0.15);\n",
              "      filter: drop-shadow(0px 1px 2px rgba(0, 0, 0, 0.3));\n",
              "      fill: #FFFFFF;\n",
              "    }\n",
              "  </style>\n",
              "\n",
              "      <script>\n",
              "        const buttonEl =\n",
              "          document.querySelector('#df-e3b4fd1f-c5e0-4be9-a502-68b99dda27ba button.colab-df-convert');\n",
              "        buttonEl.style.display =\n",
              "          google.colab.kernel.accessAllowed ? 'block' : 'none';\n",
              "\n",
              "        async function convertToInteractive(key) {\n",
              "          const element = document.querySelector('#df-e3b4fd1f-c5e0-4be9-a502-68b99dda27ba');\n",
              "          const dataTable =\n",
              "            await google.colab.kernel.invokeFunction('convertToInteractive',\n",
              "                                                     [key], {});\n",
              "          if (!dataTable) return;\n",
              "\n",
              "          const docLinkHtml = 'Like what you see? Visit the ' +\n",
              "            '<a target=\"_blank\" href=https://colab.research.google.com/notebooks/data_table.ipynb>data table notebook</a>'\n",
              "            + ' to learn more about interactive tables.';\n",
              "          element.innerHTML = '';\n",
              "          dataTable['output_type'] = 'display_data';\n",
              "          await google.colab.output.renderOutput(dataTable, element);\n",
              "          const docLink = document.createElement('div');\n",
              "          docLink.innerHTML = docLinkHtml;\n",
              "          element.appendChild(docLink);\n",
              "        }\n",
              "      </script>\n",
              "    </div>\n",
              "  </div>\n",
              "  "
            ]
          },
          "metadata": {},
          "execution_count": 6
        }
      ]
    },
    {
      "cell_type": "code",
      "source": [
        "len(gdf)"
      ],
      "metadata": {
        "colab": {
          "base_uri": "https://localhost:8080/"
        },
        "id": "0sEz9ZrDSczU",
        "outputId": "55705ba6-b89d-42aa-df5d-13635faf997b"
      },
      "execution_count": 7,
      "outputs": [
        {
          "output_type": "execute_result",
          "data": {
            "text/plain": [
              "22"
            ]
          },
          "metadata": {},
          "execution_count": 7
        }
      ]
    },
    {
      "cell_type": "code",
      "source": [
        "gdf.crs"
      ],
      "metadata": {
        "colab": {
          "base_uri": "https://localhost:8080/"
        },
        "id": "JusER_IzSfnY",
        "outputId": "1a028931-516d-4dad-fa5f-4b8fe3e68ad1"
      },
      "execution_count": 8,
      "outputs": [
        {
          "output_type": "execute_result",
          "data": {
            "text/plain": [
              "<Projected CRS: EPSG:4826>\n",
              "Name: WGS 84 / Cape Verde National\n",
              "Axis Info [cartesian]:\n",
              "- M[east]: Easting (metre)\n",
              "- P[north]: Northing (metre)\n",
              "Area of Use:\n",
              "- name: Cape Verde - onshore and offshore. Includes Boa Vista, Brava, Fogo, Maio, Sal, Santo Antao, Sao Nicolau, Sao Tiago, Sao Vicente.\n",
              "- bounds: (-28.85, 11.47, -19.53, 20.54)\n",
              "Coordinate Operation:\n",
              "- name: Cape Verde National\n",
              "- method: Lambert Conic Conformal (2SP)\n",
              "Datum: World Geodetic System 1984 ensemble\n",
              "- Ellipsoid: WGS 84\n",
              "- Prime Meridian: Greenwich"
            ]
          },
          "metadata": {},
          "execution_count": 8
        }
      ]
    },
    {
      "cell_type": "code",
      "source": [
        "gdf.geom_type"
      ],
      "metadata": {
        "colab": {
          "base_uri": "https://localhost:8080/"
        },
        "id": "0Jfrgp9pSi3u",
        "outputId": "2d85619e-893c-421e-c538-02785c061eee"
      },
      "execution_count": 9,
      "outputs": [
        {
          "output_type": "execute_result",
          "data": {
            "text/plain": [
              "0     MultiPolygon\n",
              "1     MultiPolygon\n",
              "2          Polygon\n",
              "3          Polygon\n",
              "4          Polygon\n",
              "5          Polygon\n",
              "6          Polygon\n",
              "7     MultiPolygon\n",
              "8     MultiPolygon\n",
              "9     MultiPolygon\n",
              "10    MultiPolygon\n",
              "11         Polygon\n",
              "12         Polygon\n",
              "13         Polygon\n",
              "14         Polygon\n",
              "15         Polygon\n",
              "16         Polygon\n",
              "17         Polygon\n",
              "18         Polygon\n",
              "19         Polygon\n",
              "20    MultiPolygon\n",
              "21    MultiPolygon\n",
              "dtype: object"
            ]
          },
          "metadata": {},
          "execution_count": 9
        }
      ]
    },
    {
      "cell_type": "code",
      "source": [
        "gdf.plot()"
      ],
      "metadata": {
        "colab": {
          "base_uri": "https://localhost:8080/",
          "height": 282
        },
        "id": "5_ujvX8FSskY",
        "outputId": "43eeafb3-543b-400e-8a99-798f15e9e6bf"
      },
      "execution_count": 10,
      "outputs": [
        {
          "output_type": "execute_result",
          "data": {
            "text/plain": [
              "<matplotlib.axes._subplots.AxesSubplot at 0x7fd2f5e23c50>"
            ]
          },
          "metadata": {},
          "execution_count": 10
        },
        {
          "output_type": "display_data",
          "data": {
            "text/plain": [
              "<Figure size 432x288 with 1 Axes>"
            ],
            "image/png": "[encoded data removed]"
          },
          "metadata": {
            "needs_background": "light"
          }
        }
      ]
    },
    {
      "cell_type": "code",
      "source": [
        "gdf.plot(\"Nom_Conc\")"
      ],
      "metadata": {
        "colab": {
          "base_uri": "https://localhost:8080/",
          "height": 282
        },
        "id": "gaZtO6OQSwUY",
        "outputId": "e3676329-371c-4d61-949a-2cf5cedf8579"
      },
      "execution_count": 12,
      "outputs": [
        {
          "output_type": "execute_result",
          "data": {
            "text/plain": [
              "<matplotlib.axes._subplots.AxesSubplot at 0x7fd2f5cb8090>"
            ]
          },
          "metadata": {},
          "execution_count": 12
        },
        {
          "output_type": "display_data",
          "data": {
            "text/plain": [
              "<Figure size 432x288 with 1 Axes>"
            ],
            "image/png": "[encoded data removed]"
          },
          "metadata": {
            "needs_background": "light"
          }
        }
      ]
    },
    {
      "cell_type": "code",
      "source": [
        "gdf.plot('Nom_Conc', legend=True)"
      ],
      "metadata": {
        "colab": {
          "base_uri": "https://localhost:8080/",
          "height": 386
        },
        "id": "H00nkHJAS8YB",
        "outputId": "cd58177b-1e19-4b4d-f4bb-e0522abb7d8f"
      },
      "execution_count": 14,
      "outputs": [
        {
          "output_type": "execute_result",
          "data": {
            "text/plain": [
              "<matplotlib.axes._subplots.AxesSubplot at 0x7fd2f5f56b10>"
            ]
          },
          "metadata": {},
          "execution_count": 14
        },
        {
          "output_type": "display_data",
          "data": {
            "text/plain": [
              "<Figure size 432x288 with 1 Axes>"
            ],
            "image/png": "[encoded data removed]"
          },
          "metadata": {
            "needs_background": "light"
          }
        }
      ]
    },
    {
      "cell_type": "code",
      "source": [
        "import matplotlib.pyplot as plt\n",
        "\n",
        "fig, ax = plt.subplots(1, figsize=(4.5, 10))\n",
        "gdf.plot(ax=ax, column='Nom_Conc', legend=True, legend_kwds={\"loc\":'center left'})\n",
        "leg = ax.get_legend()\n",
        "leg.set_bbox_to_anchor((1.04,0.5))"
      ],
      "metadata": {
        "colab": {
          "base_uri": "https://localhost:8080/",
          "height": 364
        },
        "id": "6vZa7IQUTFCp",
        "outputId": "6503b066-5408-41d1-e776-51f5d8b7e300"
      },
      "execution_count": 15,
      "outputs": [
        {
          "output_type": "display_data",
          "data": {
            "text/plain": [
              "<Figure size 324x720 with 1 Axes>"
            ],
            "image/png": "[encoded data removed]"
          },
          "metadata": {
            "needs_background": "light"
          }
        }
      ]
    },
    {
      "cell_type": "code",
      "source": [
        "gdf.to_file(r'/content/output/out_shp.shp')"
      ],
      "metadata": {
        "id": "p9-PliZYTN9T"
      },
      "execution_count": null,
      "outputs": []
    },
    {
      "cell_type": "code",
      "source": [
        "gdf.head()"
      ],
      "metadata": {
        "colab": {
          "base_uri": "https://localhost:8080/",
          "height": 337
        },
        "id": "5A6m63sHTS_w",
        "outputId": "dee6e517-dfe0-4314-c5b2-31b0adecfb1b"
      },
      "execution_count": 17,
      "outputs": [
        {
          "output_type": "execute_result",
          "data": {
            "text/plain": [
              "   OBJECTID  Nom_Ilha  Cod_Conc  Cod_Ilha                Nom_Conc NT_Ilha  \\\n",
              "0         1     BRAVA      91.0       9.0                   BRAVA      BR   \n",
              "1         2  BOAVISTA      51.0       5.0                BOAVISTA      BV   \n",
              "2         3      FOGO      81.0       8.0               MOSTEIROS      FG   \n",
              "3         4      FOGO      82.0       8.0              SAO FILIPE      FG   \n",
              "4         5      FOGO      83.0       8.0  SANTA CATARINA DO FOGO      FG   \n",
              "\n",
              "  NT_Conc     Shape_Leng    Shape_Area  \\\n",
              "0    BR01   88753.109593  6.561978e+07   \n",
              "1    BV01  151604.307583  6.313698e+08   \n",
              "2    FG01   45169.428439  8.492055e+07   \n",
              "3    FG02   75206.067544  2.313158e+08   \n",
              "4    FG03   71686.404328  1.542551e+08   \n",
              "\n",
              "                                            geometry  \n",
              "0  MULTIPOLYGON (((89883.045 19475.907, 89893.845...  \n",
              "1  MULTIPOLYGON (((291170.321 143880.526, 291169....  \n",
              "2  POLYGON ((121997.710 42008.110, 122009.300 419...  \n",
              "3  POLYGON ((118679.239 39610.088, 118680.973 396...  \n",
              "4  POLYGON ((121991.142 35124.003, 122086.542 349...  "
            ],
            "text/html": [
              "\n",
              "  <div id=\"df-738b9c31-67b5-449d-9c40-b058711b5cb5\">\n",
              "    <div class=\"colab-df-container\">\n",
              "      <div>\n",
              "<style scoped>\n",
              "    .dataframe tbody tr th:only-of-type {\n",
              "        vertical-align: middle;\n",
              "    }\n",
              "\n",
              "    .dataframe tbody tr th {\n",
              "        vertical-align: top;\n",
              "    }\n",
              "\n",
              "    .dataframe thead th {\n",
              "        text-align: right;\n",
              "    }\n",
              "</style>\n",
              "<table border=\"1\" class=\"dataframe\">\n",
              "  <thead>\n",
              "    <tr style=\"text-align: right;\">\n",
              "      <th></th>\n",
              "      <th>OBJECTID</th>\n",
              "      <th>Nom_Ilha</th>\n",
              "      <th>Cod_Conc</th>\n",
              "      <th>Cod_Ilha</th>\n",
              "      <th>Nom_Conc</th>\n",
              "      <th>NT_Ilha</th>\n",
              "      <th>NT_Conc</th>\n",
              "      <th>Shape_Leng</th>\n",
              "      <th>Shape_Area</th>\n",
              "      <th>geometry</th>\n",
              "    </tr>\n",
              "  </thead>\n",
              "  <tbody>\n",
              "    <tr>\n",
              "      <th>0</th>\n",
              "      <td>1</td>\n",
              "      <td>BRAVA</td>\n",
              "      <td>91.0</td>\n",
              "      <td>9.0</td>\n",
              "      <td>BRAVA</td>\n",
              "      <td>BR</td>\n",
              "      <td>BR01</td>\n",
              "      <td>88753.109593</td>\n",
              "      <td>6.561978e+07</td>\n",
              "      <td>MULTIPOLYGON (((89883.045 19475.907, 89893.845...</td>\n",
              "    </tr>\n",
              "    <tr>\n",
              "      <th>1</th>\n",
              "      <td>2</td>\n",
              "      <td>BOAVISTA</td>\n",
              "      <td>51.0</td>\n",
              "      <td>5.0</td>\n",
              "      <td>BOAVISTA</td>\n",
              "      <td>BV</td>\n",
              "      <td>BV01</td>\n",
              "      <td>151604.307583</td>\n",
              "      <td>6.313698e+08</td>\n",
              "      <td>MULTIPOLYGON (((291170.321 143880.526, 291169....</td>\n",
              "    </tr>\n",
              "    <tr>\n",
              "      <th>2</th>\n",
              "      <td>3</td>\n",
              "      <td>FOGO</td>\n",
              "      <td>81.0</td>\n",
              "      <td>8.0</td>\n",
              "      <td>MOSTEIROS</td>\n",
              "      <td>FG</td>\n",
              "      <td>FG01</td>\n",
              "      <td>45169.428439</td>\n",
              "      <td>8.492055e+07</td>\n",
              "      <td>POLYGON ((121997.710 42008.110, 122009.300 419...</td>\n",
              "    </tr>\n",
              "    <tr>\n",
              "      <th>3</th>\n",
              "      <td>4</td>\n",
              "      <td>FOGO</td>\n",
              "      <td>82.0</td>\n",
              "      <td>8.0</td>\n",
              "      <td>SAO FILIPE</td>\n",
              "      <td>FG</td>\n",
              "      <td>FG02</td>\n",
              "      <td>75206.067544</td>\n",
              "      <td>2.313158e+08</td>\n",
              "      <td>POLYGON ((118679.239 39610.088, 118680.973 396...</td>\n",
              "    </tr>\n",
              "    <tr>\n",
              "      <th>4</th>\n",
              "      <td>5</td>\n",
              "      <td>FOGO</td>\n",
              "      <td>83.0</td>\n",
              "      <td>8.0</td>\n",
              "      <td>SANTA CATARINA DO FOGO</td>\n",
              "      <td>FG</td>\n",
              "      <td>FG03</td>\n",
              "      <td>71686.404328</td>\n",
              "      <td>1.542551e+08</td>\n",
              "      <td>POLYGON ((121991.142 35124.003, 122086.542 349...</td>\n",
              "    </tr>\n",
              "  </tbody>\n",
              "</table>\n",
              "</div>\n",
              "      <button class=\"colab-df-convert\" onclick=\"convertToInteractive('df-738b9c31-67b5-449d-9c40-b058711b5cb5')\"\n",
              "              title=\"Convert this dataframe to an interactive table.\"\n",
              "              style=\"display:none;\">\n",
              "        \n",
              "  <svg xmlns=\"http://www.w3.org/2000/svg\" height=\"24px\"viewBox=\"0 0 24 24\"\n",
              "       width=\"24px\">\n",
              "    <path d=\"M0 0h24v24H0V0z\" fill=\"none\"/>\n",
              "    <path d=\"M18.56 5.44l.94 2.06.94-2.06 2.06-.94-2.06-.94-.94-2.06-.94 2.06-2.06.94zm-11 1L8.5 8.5l.94-2.06 2.06-.94-2.06-.94L8.5 2.5l-.94 2.06-2.06.94zm10 10l.94 2.06.94-2.06 2.06-.94-2.06-.94-.94-2.06-.94 2.06-2.06.94z\"/><path d=\"M17.41 7.96l-1.37-1.37c-.4-.4-.92-.59-1.43-.59-.52 0-1.04.2-1.43.59L10.3 9.45l-7.72 7.72c-.78.78-.78 2.05 0 2.83L4 21.41c.39.39.9.59 1.41.59.51 0 1.02-.2 1.41-.59l7.78-7.78 2.81-2.81c.8-.78.8-2.07 0-2.86zM5.41 20L4 18.59l7.72-7.72 1.47 1.35L5.41 20z\"/>\n",
              "  </svg>\n",
              "      </button>\n",
              "      \n",
              "  <style>\n",
              "    .colab-df-container {\n",
              "      display:flex;\n",
              "      flex-wrap:wrap;\n",
              "      gap: 12px;\n",
              "    }\n",
              "\n",
              "    .colab-df-convert {\n",
              "      background-color: #E8F0FE;\n",
              "      border: none;\n",
              "      border-radius: 50%;\n",
              "      cursor: pointer;\n",
              "      display: none;\n",
              "      fill: #1967D2;\n",
              "      height: 32px;\n",
              "      padding: 0 0 0 0;\n",
              "      width: 32px;\n",
              "    }\n",
              "\n",
              "    .colab-df-convert:hover {\n",
              "      background-color: #E2EBFA;\n",
              "      box-shadow: 0px 1px 2px rgba(60, 64, 67, 0.3), 0px 1px 3px 1px rgba(60, 64, 67, 0.15);\n",
              "      fill: #174EA6;\n",
              "    }\n",
              "\n",
              "    [theme=dark] .colab-df-convert {\n",
              "      background-color: #3B4455;\n",
              "      fill: #D2E3FC;\n",
              "    }\n",
              "\n",
              "    [theme=dark] .colab-df-convert:hover {\n",
              "      background-color: #434B5C;\n",
              "      box-shadow: 0px 1px 3px 1px rgba(0, 0, 0, 0.15);\n",
              "      filter: drop-shadow(0px 1px 2px rgba(0, 0, 0, 0.3));\n",
              "      fill: #FFFFFF;\n",
              "    }\n",
              "  </style>\n",
              "\n",
              "      <script>\n",
              "        const buttonEl =\n",
              "          document.querySelector('#df-738b9c31-67b5-449d-9c40-b058711b5cb5 button.colab-df-convert');\n",
              "        buttonEl.style.display =\n",
              "          google.colab.kernel.accessAllowed ? 'block' : 'none';\n",
              "\n",
              "        async function convertToInteractive(key) {\n",
              "          const element = document.querySelector('#df-738b9c31-67b5-449d-9c40-b058711b5cb5');\n",
              "          const dataTable =\n",
              "            await google.colab.kernel.invokeFunction('convertToInteractive',\n",
              "                                                     [key], {});\n",
              "          if (!dataTable) return;\n",
              "\n",
              "          const docLinkHtml = 'Like what you see? Visit the ' +\n",
              "            '<a target=\"_blank\" href=https://colab.research.google.com/notebooks/data_table.ipynb>data table notebook</a>'\n",
              "            + ' to learn more about interactive tables.';\n",
              "          element.innerHTML = '';\n",
              "          dataTable['output_type'] = 'display_data';\n",
              "          await google.colab.output.renderOutput(dataTable, element);\n",
              "          const docLink = document.createElement('div');\n",
              "          docLink.innerHTML = docLinkHtml;\n",
              "          element.appendChild(docLink);\n",
              "        }\n",
              "      </script>\n",
              "    </div>\n",
              "  </div>\n",
              "  "
            ]
          },
          "metadata": {},
          "execution_count": 17
        }
      ]
    },
    {
      "cell_type": "code",
      "source": [
        "gdf['Nom_Conc']==1"
      ],
      "metadata": {
        "colab": {
          "base_uri": "https://localhost:8080/"
        },
        "id": "AK_B2GSkTndp",
        "outputId": "faf4423e-334b-437a-c468-6e3a119a5534"
      },
      "execution_count": 19,
      "outputs": [
        {
          "output_type": "execute_result",
          "data": {
            "text/plain": [
              "0     False\n",
              "1     False\n",
              "2     False\n",
              "3     False\n",
              "4     False\n",
              "5     False\n",
              "6     False\n",
              "7     False\n",
              "8     False\n",
              "9     False\n",
              "10    False\n",
              "11    False\n",
              "12    False\n",
              "13    False\n",
              "14    False\n",
              "15    False\n",
              "16    False\n",
              "17    False\n",
              "18    False\n",
              "19    False\n",
              "20    False\n",
              "21    False\n",
              "Name: Nom_Conc, dtype: bool"
            ]
          },
          "metadata": {},
          "execution_count": 19
        }
      ]
    }
  ]
}