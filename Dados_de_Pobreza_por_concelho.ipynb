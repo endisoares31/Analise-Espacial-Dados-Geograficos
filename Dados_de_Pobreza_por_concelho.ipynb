{
  "nbformat": 4,
  "nbformat_minor": 0,
  "metadata": {
    "colab": {
      "provenance": [],
      "collapsed_sections": [],
      "mount_file_id": "1DWvfQ1VzFIzIYJDSRYqq28y7ewoXuW7h",
      "authorship_tag": "ABX9TyMJBFE6hHTd3Im6gtezbdWv",
      "include_colab_link": true
    },
    "kernelspec": {
      "name": "python3",
      "display_name": "Python 3"
    },
    "language_info": {
      "name": "python"
    }
  },
  "cells": [
    {
      "cell_type": "markdown",
      "metadata": {
        "id": "view-in-github",
        "colab_type": "text"
      },
      "source": [
        "<a href=\"https://colab.research.google.com/github/endisoares31/Analise-Espacial-Dados-Geograficos/blob/main/Dados_de_Pobreza_por_concelho.ipynb\" target=\"_parent\"><img src=\"https://colab.research.google.com/assets/colab-badge.svg\" alt=\"Open In Colab\"/></a>"
      ]
    },
    {
      "cell_type": "code",
      "source": [
        "!pip install mapclassify -q\n",
        "!pip install geopandas -q"
      ],
      "metadata": {
        "id": "KZFz_G4ytMtz"
      },
      "execution_count": null,
      "outputs": []
    },
    {
      "cell_type": "code",
      "execution_count": null,
      "metadata": {
        "colab": {
          "base_uri": "https://localhost:8080/"
        },
        "id": "kg4eW5IycXCr",
        "outputId": "c9c829ad-c5b9-4dce-ba82-0dd4c2b2dbbe"
      },
      "outputs": [
        {
          "output_type": "stream",
          "name": "stdout",
          "text": [
            "Mounted at /content/gdrive\n"
          ]
        }
      ],
      "source": [
        " from google.colab import drive\n",
        "\n",
        "drive.mount(\"/content/gdrive\")\n"
      ]
    },
    {
      "cell_type": "code",
      "source": [
        "# Importar as bibiotecas \n",
        "\n",
        "import folium\n",
        "import pandas as pd\n",
        "import geopandas as gpd\n",
        "import matplotlib.pyplot as plt \n"
      ],
      "metadata": {
        "id": "IwGCsPCAeKkj"
      },
      "execution_count": null,
      "outputs": []
    },
    {
      "cell_type": "code",
      "source": [
        "#Leitura dos dados csv\n",
        "data = pd.read_csv('/content/drive/MyDrive/data_gis/dados_pobreza.csv')\n",
        "data.head()\n"
      ],
      "metadata": {
        "colab": {
          "base_uri": "https://localhost:8080/",
          "height": 206
        },
        "id": "_FV0Ktd0fAut",
        "outputId": "b44126da-cb1a-4873-c974-b1c99b792d6e"
      },
      "execution_count": null,
      "outputs": [
        {
          "output_type": "execute_result",
          "data": {
            "text/plain": [
              "   id         ilha        concelho  incidencia  profundidade  severidade  \\\n",
              "0   1  Santo Antão  Ribeira Grande        37.3          10.7         4.4   \n",
              "1   2  Santo Antão      Porto Novo        52.2          20.1        10.1   \n",
              "2   3  São Vicente     São Vicente        26.8           8.2         3.4   \n",
              "3   4  São Nicolau   Ribeira Brava        35.3          12.0         5.2   \n",
              "4   6          Sal             Sal        19.1           5.0         1.7   \n",
              "\n",
              "   pobreza_absoluta_extrema  \n",
              "0                       8.0  \n",
              "1                      21.4  \n",
              "2                       6.2  \n",
              "3                      12.3  \n",
              "4                       2.2  "
            ],
            "text/html": [
              "\n",
              "  <div id=\"df-5e5a2ba4-ab39-4572-9493-5d89f805e536\">\n",
              "    <div class=\"colab-df-container\">\n",
              "      <div>\n",
              "<style scoped>\n",
              "    .dataframe tbody tr th:only-of-type {\n",
              "        vertical-align: middle;\n",
              "    }\n",
              "\n",
              "    .dataframe tbody tr th {\n",
              "        vertical-align: top;\n",
              "    }\n",
              "\n",
              "    .dataframe thead th {\n",
              "        text-align: right;\n",
              "    }\n",
              "</style>\n",
              "<table border=\"1\" class=\"dataframe\">\n",
              "  <thead>\n",
              "    <tr style=\"text-align: right;\">\n",
              "      <th></th>\n",
              "      <th>id</th>\n",
              "      <th>ilha</th>\n",
              "      <th>concelho</th>\n",
              "      <th>incidencia</th>\n",
              "      <th>profundidade</th>\n",
              "      <th>severidade</th>\n",
              "      <th>pobreza_absoluta_extrema</th>\n",
              "    </tr>\n",
              "  </thead>\n",
              "  <tbody>\n",
              "    <tr>\n",
              "      <th>0</th>\n",
              "      <td>1</td>\n",
              "      <td>Santo Antão</td>\n",
              "      <td>Ribeira Grande</td>\n",
              "      <td>37.3</td>\n",
              "      <td>10.7</td>\n",
              "      <td>4.4</td>\n",
              "      <td>8.0</td>\n",
              "    </tr>\n",
              "    <tr>\n",
              "      <th>1</th>\n",
              "      <td>2</td>\n",
              "      <td>Santo Antão</td>\n",
              "      <td>Porto Novo</td>\n",
              "      <td>52.2</td>\n",
              "      <td>20.1</td>\n",
              "      <td>10.1</td>\n",
              "      <td>21.4</td>\n",
              "    </tr>\n",
              "    <tr>\n",
              "      <th>2</th>\n",
              "      <td>3</td>\n",
              "      <td>São Vicente</td>\n",
              "      <td>São Vicente</td>\n",
              "      <td>26.8</td>\n",
              "      <td>8.2</td>\n",
              "      <td>3.4</td>\n",
              "      <td>6.2</td>\n",
              "    </tr>\n",
              "    <tr>\n",
              "      <th>3</th>\n",
              "      <td>4</td>\n",
              "      <td>São Nicolau</td>\n",
              "      <td>Ribeira Brava</td>\n",
              "      <td>35.3</td>\n",
              "      <td>12.0</td>\n",
              "      <td>5.2</td>\n",
              "      <td>12.3</td>\n",
              "    </tr>\n",
              "    <tr>\n",
              "      <th>4</th>\n",
              "      <td>6</td>\n",
              "      <td>Sal</td>\n",
              "      <td>Sal</td>\n",
              "      <td>19.1</td>\n",
              "      <td>5.0</td>\n",
              "      <td>1.7</td>\n",
              "      <td>2.2</td>\n",
              "    </tr>\n",
              "  </tbody>\n",
              "</table>\n",
              "</div>\n",
              "      <button class=\"colab-df-convert\" onclick=\"convertToInteractive('df-5e5a2ba4-ab39-4572-9493-5d89f805e536')\"\n",
              "              title=\"Convert this dataframe to an interactive table.\"\n",
              "              style=\"display:none;\">\n",
              "        \n",
              "  <svg xmlns=\"http://www.w3.org/2000/svg\" height=\"24px\"viewBox=\"0 0 24 24\"\n",
              "       width=\"24px\">\n",
              "    <path d=\"M0 0h24v24H0V0z\" fill=\"none\"/>\n",
              "    <path d=\"M18.56 5.44l.94 2.06.94-2.06 2.06-.94-2.06-.94-.94-2.06-.94 2.06-2.06.94zm-11 1L8.5 8.5l.94-2.06 2.06-.94-2.06-.94L8.5 2.5l-.94 2.06-2.06.94zm10 10l.94 2.06.94-2.06 2.06-.94-2.06-.94-.94-2.06-.94 2.06-2.06.94z\"/><path d=\"M17.41 7.96l-1.37-1.37c-.4-.4-.92-.59-1.43-.59-.52 0-1.04.2-1.43.59L10.3 9.45l-7.72 7.72c-.78.78-.78 2.05 0 2.83L4 21.41c.39.39.9.59 1.41.59.51 0 1.02-.2 1.41-.59l7.78-7.78 2.81-2.81c.8-.78.8-2.07 0-2.86zM5.41 20L4 18.59l7.72-7.72 1.47 1.35L5.41 20z\"/>\n",
              "  </svg>\n",
              "      </button>\n",
              "      \n",
              "  <style>\n",
              "    .colab-df-container {\n",
              "      display:flex;\n",
              "      flex-wrap:wrap;\n",
              "      gap: 12px;\n",
              "    }\n",
              "\n",
              "    .colab-df-convert {\n",
              "      background-color: #E8F0FE;\n",
              "      border: none;\n",
              "      border-radius: 50%;\n",
              "      cursor: pointer;\n",
              "      display: none;\n",
              "      fill: #1967D2;\n",
              "      height: 32px;\n",
              "      padding: 0 0 0 0;\n",
              "      width: 32px;\n",
              "    }\n",
              "\n",
              "    .colab-df-convert:hover {\n",
              "      background-color: #E2EBFA;\n",
              "      box-shadow: 0px 1px 2px rgba(60, 64, 67, 0.3), 0px 1px 3px 1px rgba(60, 64, 67, 0.15);\n",
              "      fill: #174EA6;\n",
              "    }\n",
              "\n",
              "    [theme=dark] .colab-df-convert {\n",
              "      background-color: #3B4455;\n",
              "      fill: #D2E3FC;\n",
              "    }\n",
              "\n",
              "    [theme=dark] .colab-df-convert:hover {\n",
              "      background-color: #434B5C;\n",
              "      box-shadow: 0px 1px 3px 1px rgba(0, 0, 0, 0.15);\n",
              "      filter: drop-shadow(0px 1px 2px rgba(0, 0, 0, 0.3));\n",
              "      fill: #FFFFFF;\n",
              "    }\n",
              "  </style>\n",
              "\n",
              "      <script>\n",
              "        const buttonEl =\n",
              "          document.querySelector('#df-5e5a2ba4-ab39-4572-9493-5d89f805e536 button.colab-df-convert');\n",
              "        buttonEl.style.display =\n",
              "          google.colab.kernel.accessAllowed ? 'block' : 'none';\n",
              "\n",
              "        async function convertToInteractive(key) {\n",
              "          const element = document.querySelector('#df-5e5a2ba4-ab39-4572-9493-5d89f805e536');\n",
              "          const dataTable =\n",
              "            await google.colab.kernel.invokeFunction('convertToInteractive',\n",
              "                                                     [key], {});\n",
              "          if (!dataTable) return;\n",
              "\n",
              "          const docLinkHtml = 'Like what you see? Visit the ' +\n",
              "            '<a target=\"_blank\" href=https://colab.research.google.com/notebooks/data_table.ipynb>data table notebook</a>'\n",
              "            + ' to learn more about interactive tables.';\n",
              "          element.innerHTML = '';\n",
              "          dataTable['output_type'] = 'display_data';\n",
              "          await google.colab.output.renderOutput(dataTable, element);\n",
              "          const docLink = document.createElement('div');\n",
              "          docLink.innerHTML = docLinkHtml;\n",
              "          element.appendChild(docLink);\n",
              "        }\n",
              "      </script>\n",
              "    </div>\n",
              "  </div>\n",
              "  "
            ]
          },
          "metadata": {},
          "execution_count": 86
        }
      ]
    },
    {
      "cell_type": "code",
      "source": [
        "#Obtendo os dados dos limites dos concelhos\n",
        "\n",
        "fp =('/content/drive/MyDrive/data_gis/limites concelho.shp')\n",
        "geodata = gpd.read_file(fp)"
      ],
      "metadata": {
        "id": "CGquyCW0i94b"
      },
      "execution_count": null,
      "outputs": []
    },
    {
      "cell_type": "code",
      "source": [
        "geodata.head()"
      ],
      "metadata": {
        "colab": {
          "base_uri": "https://localhost:8080/",
          "height": 206
        },
        "id": "VW-LmU6ZmUXJ",
        "outputId": "64a5b969-c4b1-404d-9706-dbf2e6cf5e94"
      },
      "execution_count": null,
      "outputs": [
        {
          "output_type": "execute_result",
          "data": {
            "text/plain": [
              "   id         ilha        concelho  \\\n",
              "0   1  Santo Antão  Ribeira Grande   \n",
              "1   2  Santo Antão      Porto Novo   \n",
              "2   3  São Vicente     São Vicente   \n",
              "3   4  São Nicolau   Ribeira Brava   \n",
              "4   6          Sal             Sal   \n",
              "\n",
              "                                            geometry  \n",
              "0  POLYGON ((45541.320 280589.670, 45557.470 2805...  \n",
              "1  MULTIPOLYGON (((49793.861 269471.869, 49793.82...  \n",
              "2  MULTIPOLYGON (((53781.671 247745.087, 53767.14...  \n",
              "3  POLYGON ((124947.290 222402.650, 124948.991 22...  \n",
              "4  MULTIPOLYGON (((281135.992 224162.530, 281142....  "
            ],
            "text/html": [
              "\n",
              "  <div id=\"df-46395a6d-74fb-41a6-9b55-f4f2537c7ef0\">\n",
              "    <div class=\"colab-df-container\">\n",
              "      <div>\n",
              "<style scoped>\n",
              "    .dataframe tbody tr th:only-of-type {\n",
              "        vertical-align: middle;\n",
              "    }\n",
              "\n",
              "    .dataframe tbody tr th {\n",
              "        vertical-align: top;\n",
              "    }\n",
              "\n",
              "    .dataframe thead th {\n",
              "        text-align: right;\n",
              "    }\n",
              "</style>\n",
              "<table border=\"1\" class=\"dataframe\">\n",
              "  <thead>\n",
              "    <tr style=\"text-align: right;\">\n",
              "      <th></th>\n",
              "      <th>id</th>\n",
              "      <th>ilha</th>\n",
              "      <th>concelho</th>\n",
              "      <th>geometry</th>\n",
              "    </tr>\n",
              "  </thead>\n",
              "  <tbody>\n",
              "    <tr>\n",
              "      <th>0</th>\n",
              "      <td>1</td>\n",
              "      <td>Santo Antão</td>\n",
              "      <td>Ribeira Grande</td>\n",
              "      <td>POLYGON ((45541.320 280589.670, 45557.470 2805...</td>\n",
              "    </tr>\n",
              "    <tr>\n",
              "      <th>1</th>\n",
              "      <td>2</td>\n",
              "      <td>Santo Antão</td>\n",
              "      <td>Porto Novo</td>\n",
              "      <td>MULTIPOLYGON (((49793.861 269471.869, 49793.82...</td>\n",
              "    </tr>\n",
              "    <tr>\n",
              "      <th>2</th>\n",
              "      <td>3</td>\n",
              "      <td>São Vicente</td>\n",
              "      <td>São Vicente</td>\n",
              "      <td>MULTIPOLYGON (((53781.671 247745.087, 53767.14...</td>\n",
              "    </tr>\n",
              "    <tr>\n",
              "      <th>3</th>\n",
              "      <td>4</td>\n",
              "      <td>São Nicolau</td>\n",
              "      <td>Ribeira Brava</td>\n",
              "      <td>POLYGON ((124947.290 222402.650, 124948.991 22...</td>\n",
              "    </tr>\n",
              "    <tr>\n",
              "      <th>4</th>\n",
              "      <td>6</td>\n",
              "      <td>Sal</td>\n",
              "      <td>Sal</td>\n",
              "      <td>MULTIPOLYGON (((281135.992 224162.530, 281142....</td>\n",
              "    </tr>\n",
              "  </tbody>\n",
              "</table>\n",
              "</div>\n",
              "      <button class=\"colab-df-convert\" onclick=\"convertToInteractive('df-46395a6d-74fb-41a6-9b55-f4f2537c7ef0')\"\n",
              "              title=\"Convert this dataframe to an interactive table.\"\n",
              "              style=\"display:none;\">\n",
              "        \n",
              "  <svg xmlns=\"http://www.w3.org/2000/svg\" height=\"24px\"viewBox=\"0 0 24 24\"\n",
              "       width=\"24px\">\n",
              "    <path d=\"M0 0h24v24H0V0z\" fill=\"none\"/>\n",
              "    <path d=\"M18.56 5.44l.94 2.06.94-2.06 2.06-.94-2.06-.94-.94-2.06-.94 2.06-2.06.94zm-11 1L8.5 8.5l.94-2.06 2.06-.94-2.06-.94L8.5 2.5l-.94 2.06-2.06.94zm10 10l.94 2.06.94-2.06 2.06-.94-2.06-.94-.94-2.06-.94 2.06-2.06.94z\"/><path d=\"M17.41 7.96l-1.37-1.37c-.4-.4-.92-.59-1.43-.59-.52 0-1.04.2-1.43.59L10.3 9.45l-7.72 7.72c-.78.78-.78 2.05 0 2.83L4 21.41c.39.39.9.59 1.41.59.51 0 1.02-.2 1.41-.59l7.78-7.78 2.81-2.81c.8-.78.8-2.07 0-2.86zM5.41 20L4 18.59l7.72-7.72 1.47 1.35L5.41 20z\"/>\n",
              "  </svg>\n",
              "      </button>\n",
              "      \n",
              "  <style>\n",
              "    .colab-df-container {\n",
              "      display:flex;\n",
              "      flex-wrap:wrap;\n",
              "      gap: 12px;\n",
              "    }\n",
              "\n",
              "    .colab-df-convert {\n",
              "      background-color: #E8F0FE;\n",
              "      border: none;\n",
              "      border-radius: 50%;\n",
              "      cursor: pointer;\n",
              "      display: none;\n",
              "      fill: #1967D2;\n",
              "      height: 32px;\n",
              "      padding: 0 0 0 0;\n",
              "      width: 32px;\n",
              "    }\n",
              "\n",
              "    .colab-df-convert:hover {\n",
              "      background-color: #E2EBFA;\n",
              "      box-shadow: 0px 1px 2px rgba(60, 64, 67, 0.3), 0px 1px 3px 1px rgba(60, 64, 67, 0.15);\n",
              "      fill: #174EA6;\n",
              "    }\n",
              "\n",
              "    [theme=dark] .colab-df-convert {\n",
              "      background-color: #3B4455;\n",
              "      fill: #D2E3FC;\n",
              "    }\n",
              "\n",
              "    [theme=dark] .colab-df-convert:hover {\n",
              "      background-color: #434B5C;\n",
              "      box-shadow: 0px 1px 3px 1px rgba(0, 0, 0, 0.15);\n",
              "      filter: drop-shadow(0px 1px 2px rgba(0, 0, 0, 0.3));\n",
              "      fill: #FFFFFF;\n",
              "    }\n",
              "  </style>\n",
              "\n",
              "      <script>\n",
              "        const buttonEl =\n",
              "          document.querySelector('#df-46395a6d-74fb-41a6-9b55-f4f2537c7ef0 button.colab-df-convert');\n",
              "        buttonEl.style.display =\n",
              "          google.colab.kernel.accessAllowed ? 'block' : 'none';\n",
              "\n",
              "        async function convertToInteractive(key) {\n",
              "          const element = document.querySelector('#df-46395a6d-74fb-41a6-9b55-f4f2537c7ef0');\n",
              "          const dataTable =\n",
              "            await google.colab.kernel.invokeFunction('convertToInteractive',\n",
              "                                                     [key], {});\n",
              "          if (!dataTable) return;\n",
              "\n",
              "          const docLinkHtml = 'Like what you see? Visit the ' +\n",
              "            '<a target=\"_blank\" href=https://colab.research.google.com/notebooks/data_table.ipynb>data table notebook</a>'\n",
              "            + ' to learn more about interactive tables.';\n",
              "          element.innerHTML = '';\n",
              "          dataTable['output_type'] = 'display_data';\n",
              "          await google.colab.output.renderOutput(dataTable, element);\n",
              "          const docLink = document.createElement('div');\n",
              "          docLink.innerHTML = docLinkHtml;\n",
              "          element.appendChild(docLink);\n",
              "        }\n",
              "      </script>\n",
              "    </div>\n",
              "  </div>\n",
              "  "
            ]
          },
          "metadata": {},
          "execution_count": 88
        }
      ]
    },
    {
      "cell_type": "code",
      "source": [
        "#print informacoes \n",
        "print(\"Contagem original de atributos:\", len(data))\n",
        "print(\"contagem origibal de geometrias:\", len(geodata))"
      ],
      "metadata": {
        "colab": {
          "base_uri": "https://localhost:8080/"
        },
        "id": "Z8qCkeWsmhcX",
        "outputId": "9c282580-3edc-4381-aefd-4cd4676bc73a"
      },
      "execution_count": null,
      "outputs": [
        {
          "output_type": "stream",
          "name": "stdout",
          "text": [
            "Contagem original de atributos: 22\n",
            "contagem origibal de geometrias: 22\n"
          ]
        }
      ]
    },
    {
      "cell_type": "code",
      "source": [
        "geodata = geodata.merge(data, on = \"concelho\")\n",
        "\n",
        "print(\"Contagem depois do join:\", len(geodata))\n",
        "geodata.head()"
      ],
      "metadata": {
        "colab": {
          "base_uri": "https://localhost:8080/",
          "height": 224
        },
        "id": "0cBhn_DtoKjG",
        "outputId": "12236491-6212-4aca-d1aa-77afb7e34e54"
      },
      "execution_count": null,
      "outputs": [
        {
          "output_type": "stream",
          "name": "stdout",
          "text": [
            "Contagem depois do join: 22\n"
          ]
        },
        {
          "output_type": "execute_result",
          "data": {
            "text/plain": [
              "   id_x       ilha_x        concelho  \\\n",
              "0     1  Santo Antão  Ribeira Grande   \n",
              "1     2  Santo Antão      Porto Novo   \n",
              "2     3  São Vicente     São Vicente   \n",
              "3     4  São Nicolau   Ribeira Brava   \n",
              "4     6          Sal             Sal   \n",
              "\n",
              "                                            geometry  id_y       ilha_y  \\\n",
              "0  POLYGON ((45541.320 280589.670, 45557.470 2805...     1  Santo Antão   \n",
              "1  MULTIPOLYGON (((49793.861 269471.869, 49793.82...     2  Santo Antão   \n",
              "2  MULTIPOLYGON (((53781.671 247745.087, 53767.14...     3  São Vicente   \n",
              "3  POLYGON ((124947.290 222402.650, 124948.991 22...     4  São Nicolau   \n",
              "4  MULTIPOLYGON (((281135.992 224162.530, 281142....     6          Sal   \n",
              "\n",
              "   incidencia  profundidade  severidade  pobreza_absoluta_extrema  \n",
              "0        37.3          10.7         4.4                       8.0  \n",
              "1        52.2          20.1        10.1                      21.4  \n",
              "2        26.8           8.2         3.4                       6.2  \n",
              "3        35.3          12.0         5.2                      12.3  \n",
              "4        19.1           5.0         1.7                       2.2  "
            ],
            "text/html": [
              "\n",
              "  <div id=\"df-76f4caad-7f0d-45bc-996f-3f4fda4b9b98\">\n",
              "    <div class=\"colab-df-container\">\n",
              "      <div>\n",
              "<style scoped>\n",
              "    .dataframe tbody tr th:only-of-type {\n",
              "        vertical-align: middle;\n",
              "    }\n",
              "\n",
              "    .dataframe tbody tr th {\n",
              "        vertical-align: top;\n",
              "    }\n",
              "\n",
              "    .dataframe thead th {\n",
              "        text-align: right;\n",
              "    }\n",
              "</style>\n",
              "<table border=\"1\" class=\"dataframe\">\n",
              "  <thead>\n",
              "    <tr style=\"text-align: right;\">\n",
              "      <th></th>\n",
              "      <th>id_x</th>\n",
              "      <th>ilha_x</th>\n",
              "      <th>concelho</th>\n",
              "      <th>geometry</th>\n",
              "      <th>id_y</th>\n",
              "      <th>ilha_y</th>\n",
              "      <th>incidencia</th>\n",
              "      <th>profundidade</th>\n",
              "      <th>severidade</th>\n",
              "      <th>pobreza_absoluta_extrema</th>\n",
              "    </tr>\n",
              "  </thead>\n",
              "  <tbody>\n",
              "    <tr>\n",
              "      <th>0</th>\n",
              "      <td>1</td>\n",
              "      <td>Santo Antão</td>\n",
              "      <td>Ribeira Grande</td>\n",
              "      <td>POLYGON ((45541.320 280589.670, 45557.470 2805...</td>\n",
              "      <td>1</td>\n",
              "      <td>Santo Antão</td>\n",
              "      <td>37.3</td>\n",
              "      <td>10.7</td>\n",
              "      <td>4.4</td>\n",
              "      <td>8.0</td>\n",
              "    </tr>\n",
              "    <tr>\n",
              "      <th>1</th>\n",
              "      <td>2</td>\n",
              "      <td>Santo Antão</td>\n",
              "      <td>Porto Novo</td>\n",
              "      <td>MULTIPOLYGON (((49793.861 269471.869, 49793.82...</td>\n",
              "      <td>2</td>\n",
              "      <td>Santo Antão</td>\n",
              "      <td>52.2</td>\n",
              "      <td>20.1</td>\n",
              "      <td>10.1</td>\n",
              "      <td>21.4</td>\n",
              "    </tr>\n",
              "    <tr>\n",
              "      <th>2</th>\n",
              "      <td>3</td>\n",
              "      <td>São Vicente</td>\n",
              "      <td>São Vicente</td>\n",
              "      <td>MULTIPOLYGON (((53781.671 247745.087, 53767.14...</td>\n",
              "      <td>3</td>\n",
              "      <td>São Vicente</td>\n",
              "      <td>26.8</td>\n",
              "      <td>8.2</td>\n",
              "      <td>3.4</td>\n",
              "      <td>6.2</td>\n",
              "    </tr>\n",
              "    <tr>\n",
              "      <th>3</th>\n",
              "      <td>4</td>\n",
              "      <td>São Nicolau</td>\n",
              "      <td>Ribeira Brava</td>\n",
              "      <td>POLYGON ((124947.290 222402.650, 124948.991 22...</td>\n",
              "      <td>4</td>\n",
              "      <td>São Nicolau</td>\n",
              "      <td>35.3</td>\n",
              "      <td>12.0</td>\n",
              "      <td>5.2</td>\n",
              "      <td>12.3</td>\n",
              "    </tr>\n",
              "    <tr>\n",
              "      <th>4</th>\n",
              "      <td>6</td>\n",
              "      <td>Sal</td>\n",
              "      <td>Sal</td>\n",
              "      <td>MULTIPOLYGON (((281135.992 224162.530, 281142....</td>\n",
              "      <td>6</td>\n",
              "      <td>Sal</td>\n",
              "      <td>19.1</td>\n",
              "      <td>5.0</td>\n",
              "      <td>1.7</td>\n",
              "      <td>2.2</td>\n",
              "    </tr>\n",
              "  </tbody>\n",
              "</table>\n",
              "</div>\n",
              "      <button class=\"colab-df-convert\" onclick=\"convertToInteractive('df-76f4caad-7f0d-45bc-996f-3f4fda4b9b98')\"\n",
              "              title=\"Convert this dataframe to an interactive table.\"\n",
              "              style=\"display:none;\">\n",
              "        \n",
              "  <svg xmlns=\"http://www.w3.org/2000/svg\" height=\"24px\"viewBox=\"0 0 24 24\"\n",
              "       width=\"24px\">\n",
              "    <path d=\"M0 0h24v24H0V0z\" fill=\"none\"/>\n",
              "    <path d=\"M18.56 5.44l.94 2.06.94-2.06 2.06-.94-2.06-.94-.94-2.06-.94 2.06-2.06.94zm-11 1L8.5 8.5l.94-2.06 2.06-.94-2.06-.94L8.5 2.5l-.94 2.06-2.06.94zm10 10l.94 2.06.94-2.06 2.06-.94-2.06-.94-.94-2.06-.94 2.06-2.06.94z\"/><path d=\"M17.41 7.96l-1.37-1.37c-.4-.4-.92-.59-1.43-.59-.52 0-1.04.2-1.43.59L10.3 9.45l-7.72 7.72c-.78.78-.78 2.05 0 2.83L4 21.41c.39.39.9.59 1.41.59.51 0 1.02-.2 1.41-.59l7.78-7.78 2.81-2.81c.8-.78.8-2.07 0-2.86zM5.41 20L4 18.59l7.72-7.72 1.47 1.35L5.41 20z\"/>\n",
              "  </svg>\n",
              "      </button>\n",
              "      \n",
              "  <style>\n",
              "    .colab-df-container {\n",
              "      display:flex;\n",
              "      flex-wrap:wrap;\n",
              "      gap: 12px;\n",
              "    }\n",
              "\n",
              "    .colab-df-convert {\n",
              "      background-color: #E8F0FE;\n",
              "      border: none;\n",
              "      border-radius: 50%;\n",
              "      cursor: pointer;\n",
              "      display: none;\n",
              "      fill: #1967D2;\n",
              "      height: 32px;\n",
              "      padding: 0 0 0 0;\n",
              "      width: 32px;\n",
              "    }\n",
              "\n",
              "    .colab-df-convert:hover {\n",
              "      background-color: #E2EBFA;\n",
              "      box-shadow: 0px 1px 2px rgba(60, 64, 67, 0.3), 0px 1px 3px 1px rgba(60, 64, 67, 0.15);\n",
              "      fill: #174EA6;\n",
              "    }\n",
              "\n",
              "    [theme=dark] .colab-df-convert {\n",
              "      background-color: #3B4455;\n",
              "      fill: #D2E3FC;\n",
              "    }\n",
              "\n",
              "    [theme=dark] .colab-df-convert:hover {\n",
              "      background-color: #434B5C;\n",
              "      box-shadow: 0px 1px 3px 1px rgba(0, 0, 0, 0.15);\n",
              "      filter: drop-shadow(0px 1px 2px rgba(0, 0, 0, 0.3));\n",
              "      fill: #FFFFFF;\n",
              "    }\n",
              "  </style>\n",
              "\n",
              "      <script>\n",
              "        const buttonEl =\n",
              "          document.querySelector('#df-76f4caad-7f0d-45bc-996f-3f4fda4b9b98 button.colab-df-convert');\n",
              "        buttonEl.style.display =\n",
              "          google.colab.kernel.accessAllowed ? 'block' : 'none';\n",
              "\n",
              "        async function convertToInteractive(key) {\n",
              "          const element = document.querySelector('#df-76f4caad-7f0d-45bc-996f-3f4fda4b9b98');\n",
              "          const dataTable =\n",
              "            await google.colab.kernel.invokeFunction('convertToInteractive',\n",
              "                                                     [key], {});\n",
              "          if (!dataTable) return;\n",
              "\n",
              "          const docLinkHtml = 'Like what you see? Visit the ' +\n",
              "            '<a target=\"_blank\" href=https://colab.research.google.com/notebooks/data_table.ipynb>data table notebook</a>'\n",
              "            + ' to learn more about interactive tables.';\n",
              "          element.innerHTML = '';\n",
              "          dataTable['output_type'] = 'display_data';\n",
              "          await google.colab.output.renderOutput(dataTable, element);\n",
              "          const docLink = document.createElement('div');\n",
              "          docLink.innerHTML = docLinkHtml;\n",
              "          element.appendChild(docLink);\n",
              "        }\n",
              "      </script>\n",
              "    </div>\n",
              "  </div>\n",
              "  "
            ]
          },
          "metadata": {},
          "execution_count": 90
        }
      ]
    },
    {
      "cell_type": "code",
      "source": [
        "#Criar um mapa estatico\n",
        "\n",
        "geodata.plot(column=\"incidencia\")"
      ],
      "metadata": {
        "colab": {
          "base_uri": "https://localhost:8080/",
          "height": 282
        },
        "id": "Z-lrdEb9sYpo",
        "outputId": "d4598a44-2a56-48ea-82d4-ddb1934fcc9e"
      },
      "execution_count": null,
      "outputs": [
        {
          "output_type": "execute_result",
          "data": {
            "text/plain": [
              "<matplotlib.axes._subplots.AxesSubplot at 0x7f6042ba2150>"
            ]
          },
          "metadata": {},
          "execution_count": 91
        },
        {
          "output_type": "display_data",
          "data": {
            "text/plain": [
              "<Figure size 432x288 with 1 Axes>"
            ],
            "image/png": "[encoded data removed]"
          },
          "metadata": {
            "needs_background": "light"
          }
        }
      ]
    },
    {
      "cell_type": "code",
      "source": [
        "#Ajustando o Mapa\n",
        "\n",
        "fig, ax = plt.subplots(1, figsize=(10, 8))\n",
        "\n",
        "geodata.plot(ax=ax, column=\"incidencia\", scheme=\"quantiles\", cmap=\"Reds\", legend=True)\n",
        "\n",
        "ax.get_legend().set_title(\"Incidencia Pobreza (%)\")\n",
        "\n"
      ],
      "metadata": {
        "colab": {
          "base_uri": "https://localhost:8080/",
          "height": 483
        },
        "id": "ljYkt5tvs6DR",
        "outputId": "3b663828-8b84-4500-aa23-9d41778f204e"
      },
      "execution_count": null,
      "outputs": [
        {
          "output_type": "display_data",
          "data": {
            "text/plain": [
              "<Figure size 720x576 with 1 Axes>"
            ],
            "image/png": "[encoded data removed]"
          },
          "metadata": {
            "needs_background": "light"
          }
        }
      ]
    },
    {
      "cell_type": "code",
      "source": [],
      "metadata": {
        "id": "e1KndvpQuD4O"
      },
      "execution_count": null,
      "outputs": []
    }
  ]
}